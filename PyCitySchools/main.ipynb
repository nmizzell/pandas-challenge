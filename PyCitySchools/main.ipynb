{
 "cells": [
  {
   "cell_type": "code",
   "execution_count": 39,
   "metadata": {},
   "outputs": [],
   "source": [
    "#Module 4 Challenge\n",
    "#by: Nathaniel Mizzell"
   ]
  },
  {
   "cell_type": "code",
   "execution_count": 40,
   "metadata": {},
   "outputs": [],
   "source": [
    "#Import dependencies\n",
    "import pandas as pd\n",
    "from pathlib import Path"
   ]
  },
  {
   "cell_type": "code",
   "execution_count": 41,
   "metadata": {},
   "outputs": [
    {
     "data": {
      "text/plain": [
       "Index(['Student ID', 'student_name', 'gender', 'grade', 'school_name',\n",
       "       'reading_score', 'math_score', 'School ID', 'type', 'size', 'budget'],\n",
       "      dtype='object')"
      ]
     },
     "execution_count": 41,
     "metadata": {},
     "output_type": "execute_result"
    }
   ],
   "source": [
    "#Get data\n",
    "school_df_path = Path(\"Resources\\schools_complete.csv\")\n",
    "student_df_path = Path(\"Resources\\students_complete.csv\")\n",
    "\n",
    "school_df = pd.read_csv(school_df_path)\n",
    "student_df = pd.read_csv(student_df_path)\n",
    "\n",
    "#Merge dataframes for analysis\n",
    "df = pd.merge(student_df, school_df, on='school_name', how='left')\n",
    "\n",
    "df.columns"
   ]
  },
  {
   "cell_type": "code",
   "execution_count": 42,
   "metadata": {},
   "outputs": [],
   "source": [
    "#Analysis"
   ]
  },
  {
   "cell_type": "code",
   "execution_count": 80,
   "metadata": {},
   "outputs": [
    {
     "data": {
      "text/plain": [
       "Total number of unique schools            15.00\n",
       "Total Students                        39,170.00\n",
       "Total Budget                      24,649,428.00\n",
       "Average math score                        78.99\n",
       "Average reading score                     81.88\n",
       "PCT passing math (>= 70)                  74.98\n",
       "PCT passing reading                       85.81\n",
       "PCT overall passing                       65.17\n",
       "dtype: object"
      ]
     },
     "execution_count": 80,
     "metadata": {},
     "output_type": "execute_result"
    }
   ],
   "source": [
    "#District Summary\n",
    "\n",
    "#Total number of unique schools\n",
    "unique_school_count = school_df['school_name'].nunique()\n",
    "\n",
    "#Total Students\n",
    "total_students = school_df['size'].sum()\n",
    "\n",
    "#Total Budget\n",
    "total_budget = school_df['budget'].sum()\n",
    "\n",
    "#Average math score\n",
    "avg_math_score = df['math_score'].mean()\n",
    "\n",
    "#Average reading score\n",
    "avg_reading_score = df['reading_score'].mean()\n",
    "\n",
    "#PCT passing math (>= 70)\n",
    "num_passing_students_math = df['math_score'].loc[df['math_score'] >= 70].count()\n",
    "pct_passing_math = num_passing_students_math / float(total_students)\n",
    "\n",
    "#PCT passing reading\n",
    "num_passing_students_reading = df['reading_score'].loc[df['reading_score'] >= 70].count()\n",
    "pct_passing_reading = num_passing_students_reading / total_students\n",
    "\n",
    "#PCT overall passing\n",
    "num_passing_students_overall = df['reading_score'].loc[(df['reading_score'] >= 70) & (df['math_score'] >= 70)].count()\n",
    "pct_passing_overall = num_passing_students_overall / total_students\n",
    "\n",
    "\n",
    "#return results in a pandas series\n",
    "results = pd.Series({\n",
    "    'Total number of unique schools': unique_school_count\n",
    "    ,'Total Students': total_students\n",
    "    ,'Total Budget': total_budget\n",
    "    ,'Average math score': avg_math_score\n",
    "    ,'Average reading score': avg_reading_score\n",
    "    ,'PCT passing math (>= 70)': pct_passing_math * 100\n",
    "    ,'PCT passing reading': pct_passing_reading * 100\n",
    "    ,'PCT overall passing': pct_passing_overall * 100\n",
    "}).map(\"{:,.2f}\".format)\n",
    "\n",
    "results"
   ]
  },
  {
   "cell_type": "code",
   "execution_count": 44,
   "metadata": {},
   "outputs": [],
   "source": [
    "#School summary\n",
    "\n",
    "#Strategy: group data by school \n",
    "\n",
    "#School name\n",
    "#School type\n",
    "#Total students\n",
    "#Total school budget\n",
    "#Per student budget\n",
    "#Average math score\n",
    "#Average reading score\n",
    "#PCT passing math\n",
    "#PCT passing reading\n",
    "#PCT overall passing"
   ]
  },
  {
   "cell_type": "code",
   "execution_count": 45,
   "metadata": {},
   "outputs": [],
   "source": [
    "#Highest performing Schools by PCT overall passing"
   ]
  },
  {
   "cell_type": "code",
   "execution_count": 46,
   "metadata": {},
   "outputs": [],
   "source": [
    "#Lowest performing schools by PCT overall passing"
   ]
  },
  {
   "cell_type": "code",
   "execution_count": 47,
   "metadata": {},
   "outputs": [],
   "source": [
    "#Math scores by grade"
   ]
  },
  {
   "cell_type": "code",
   "execution_count": 48,
   "metadata": {},
   "outputs": [],
   "source": [
    "#Reading scores by grade"
   ]
  },
  {
   "cell_type": "code",
   "execution_count": 49,
   "metadata": {},
   "outputs": [],
   "source": [
    "#Scores by school spending"
   ]
  },
  {
   "cell_type": "code",
   "execution_count": 50,
   "metadata": {},
   "outputs": [],
   "source": [
    "#Scores by school type"
   ]
  },
  {
   "cell_type": "code",
   "execution_count": null,
   "metadata": {},
   "outputs": [],
   "source": []
  }
 ],
 "metadata": {
  "kernelspec": {
   "display_name": "base",
   "language": "python",
   "name": "python3"
  },
  "language_info": {
   "codemirror_mode": {
    "name": "ipython",
    "version": 3
   },
   "file_extension": ".py",
   "mimetype": "text/x-python",
   "name": "python",
   "nbconvert_exporter": "python",
   "pygments_lexer": "ipython3",
   "version": "3.8.5"
  },
  "orig_nbformat": 4
 },
 "nbformat": 4,
 "nbformat_minor": 2
}
